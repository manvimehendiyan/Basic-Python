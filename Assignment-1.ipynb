{
 "cells": [
  {
   "cell_type": "markdown",
   "metadata": {},
   "source": [
    "**ASSIGNMENT 1:**\n",
    "##### Submitted by: Manvi Mehendiyan\n",
    "##### Roll No.: 102003678\n",
    "##### Subgroup: 3COE27 "
   ]
  },
  {
   "cell_type": "code",
   "execution_count": 4,
   "metadata": {},
   "outputs": [],
   "source": [
    "import numpy as np"
   ]
  },
  {
   "cell_type": "markdown",
   "metadata": {},
   "source": [
    "QUESTION 1:"
   ]
  },
  {
   "cell_type": "code",
   "execution_count": 5,
   "metadata": {},
   "outputs": [
    {
     "name": "stdout",
     "output_type": "stream",
     "text": [
      "[5 4 6 3 2 1]\n"
     ]
    }
   ],
   "source": [
    "arr=np.array([1,2,3,6,4,5])\n",
    "print(np.flip(arr))"
   ]
  },
  {
   "cell_type": "code",
   "execution_count": 6,
   "metadata": {},
   "outputs": [
    {
     "name": "stdout",
     "output_type": "stream",
     "text": [
      "Initial array:\n",
      "[[1 2 3]\n",
      " [2 4 5]\n",
      " [1 2 3]]\n",
      "New array: [1 2 3 2 4 5 1 2 3]\n"
     ]
    }
   ],
   "source": [
    "array1=np.array([[1, 2, 3], [2, 4, 5], [1, 2, 3]])\n",
    "print(f\"Initial array:\\n{array1}\")\n",
    "a1D=array1.flatten()\n",
    "print(f\"New array: {a1D}\")"
   ]
  },
  {
   "cell_type": "code",
   "execution_count": 7,
   "metadata": {},
   "outputs": [
    {
     "name": "stdout",
     "output_type": "stream",
     "text": [
      "True\n"
     ]
    }
   ],
   "source": [
    "arr1=np.array([[1, 2], [3, 4]])\n",
    "arr2=np.array([[1, 2], [3, 4]])\n",
    "compare= arr1==arr2\n",
    "print(compare.all())"
   ]
  },
  {
   "cell_type": "code",
   "execution_count": 8,
   "metadata": {},
   "outputs": [
    {
     "name": "stdout",
     "output_type": "stream",
     "text": [
      "Most frequent value: 1\n",
      "(array([0, 5, 7, 8, 9], dtype=int64),)\n",
      "Most frequent value: 1\n",
      "(array([0, 1, 2], dtype=int64),)\n"
     ]
    }
   ],
   "source": [
    "#(i)\n",
    "x=np.array([1, 2, 3, 4, 5, 1, 2, 1, 1, 1])\n",
    "n=np.bincount(x).argmax()\n",
    "print(f\"Most frequent value: {n}\")\n",
    "print(np.where(x==n))\n",
    "\n",
    "#(ii)\n",
    "y=np.array([1, 1, 1, 2, 3, 4, 2, 4, 3, 3])\n",
    "m=np.bincount(y).argmax()\n",
    "print(f\"Most frequent value: {m}\")\n",
    "print(np.where(y==m))"
   ]
  },
  {
   "cell_type": "code",
   "execution_count": 9,
   "metadata": {},
   "outputs": [
    {
     "name": "stdout",
     "output_type": "stream",
     "text": [
      "Given Matrix:\n",
      "[[ 4  1  9]\n",
      " [12  3  1]\n",
      " [ 4  5  6]]\n",
      "Sum of all elements: 45\n",
      "Sum of all elements row-wise: \n",
      " [[14]\n",
      " [16]\n",
      " [15]]\n",
      "Sum of all elements column-wise:  [[20  9 16]]\n"
     ]
    }
   ],
   "source": [
    "gfg=np.matrix('[4, 1, 9; 12, 3, 1; 4, 5, 6]')\n",
    "print(f\"Given Matrix:\\n{gfg}\")\n",
    "print(\"Sum of all elements:\",gfg.sum())\n",
    "print(\"Sum of all elements row-wise: \\n\",gfg.sum(axis=1))\n",
    "print(\"Sum of all elements column-wise: \",gfg.sum(axis=0))"
   ]
  },
  {
   "cell_type": "code",
   "execution_count": 10,
   "metadata": {},
   "outputs": [
    {
     "name": "stdout",
     "output_type": "stream",
     "text": [
      "Given matrix:\n",
      "[[55 25 15]\n",
      " [30 44  2]\n",
      " [11 45 77]]\n",
      "Sum of diagonal elements: 176\n",
      "Eigen values of matrix: [98.16835147 28.097044   49.73460452]\n",
      "Eigen vectors of matrix:\n",
      "[[ 0.4574917   0.34637121 -0.15017693]\n",
      " [ 0.28447814 -0.72784061 -0.4852124 ]\n",
      " [ 0.84248058  0.59184038  0.8614034 ]]\n",
      "Inverse of a matrix:\n",
      "[[ 0.02404141 -0.00911212 -0.00444671]\n",
      " [-0.01667882  0.02966905  0.0024785 ]\n",
      " [ 0.00631287 -0.01603732  0.01217379]]\n",
      "Determinant of matrix: 137180.0000000001\n"
     ]
    }
   ],
   "source": [
    "n_array=np.array([[55, 25, 15],[30, 44, 2],[11, 45, 77]])\n",
    "print(f\"Given matrix:\\n{n_array}\")\n",
    "print(f\"Sum of diagonal elements: {n_array.trace()}\")\n",
    "w,v=np.linalg.eig(n_array)\n",
    "print(f\"Eigen values of matrix: {w}\")\n",
    "print(f\"Eigen vectors of matrix:\\n{v}\")\n",
    "print(f\"Inverse of a matrix:\\n{np.linalg.inv(n_array)}\")\n",
    "print(f\"Determinant of matrix: {np.linalg.det(n_array)}\")\n"
   ]
  },
  {
   "cell_type": "code",
   "execution_count": 11,
   "metadata": {},
   "outputs": [
    {
     "name": "stdout",
     "output_type": "stream",
     "text": [
      "p*q=\n",
      "[[16 19]\n",
      " [26 31]]\n",
      "Covariance:\n",
      "[[0.5 0.5 0.5 0.5]\n",
      " [0.5 0.5 0.5 0.5]\n",
      " [0.5 0.5 0.5 0.5]\n",
      " [0.5 0.5 0.5 0.5]]\n",
      "\n",
      "p*q=\n",
      "[[16 19  5]\n",
      " [26 31  8]\n",
      " [46 55 14]]\n"
     ]
    }
   ],
   "source": [
    "#(i)\n",
    "p = [[1, 2], [2, 3]]\n",
    "q = [[4, 5], [6, 7]] \n",
    "print(f\"p*q=\\n{np.matmul(p,q)}\")\n",
    "print(f\"Covariance:\\n{np.cov(p,q)}\")\n",
    "\n",
    "#(ii)\n",
    "r = [[1, 2], [2, 3], [4, 5]]\n",
    "s = [[4, 5, 1], [6, 7, 2]]\n",
    "print(f\"\\np*q=\\n{np.matmul(r,s)}\")"
   ]
  },
  {
   "cell_type": "code",
   "execution_count": 12,
   "metadata": {},
   "outputs": [
    {
     "name": "stdout",
     "output_type": "stream",
     "text": [
      "Inner product:\n",
      "[[17 52]\n",
      " [13 62]]\n",
      "Outer product:\n",
      "[[ 2 10  0 10 20  6]\n",
      " [ 3 15  0 15 30  9]\n",
      " [ 4 20  0 20 40 12]\n",
      " [ 3 15  0 15 30  9]\n",
      " [ 2 10  0 10 20  6]\n",
      " [ 9 45  0 45 90 27]]\n",
      "Cartesian product:\n",
      "[[-20   4   7]\n",
      " [-84  36  20]]\n"
     ]
    }
   ],
   "source": [
    "x = np.array([[2, 3, 4], [3, 2, 9]])\n",
    "y = np.array([[1, 5, 0], [5, 10, 3]])\n",
    "print(f\"Inner product:\\n{np.inner(x,y)}\")\n",
    "print(f\"Outer product:\\n{np.outer(x,y)}\")\n",
    "print(f\"Cartesian product:\\n{np.cross(x,y)}\")"
   ]
  },
  {
   "cell_type": "markdown",
   "metadata": {},
   "source": [
    "QUESTION 2:"
   ]
  },
  {
   "cell_type": "code",
   "execution_count": 13,
   "metadata": {},
   "outputs": [
    {
     "name": "stdout",
     "output_type": "stream",
     "text": [
      "Element-wise absolute value:\n",
      "[[1 2 3]\n",
      " [4 5 6]]\n",
      "\n",
      "Percentile values of flattened array:\n",
      "25th: -3.5\n",
      "50th: -0.5\n",
      "75th: 2.5\n",
      "Percentile values of each column:\n",
      "25th: [-2.75 -0.25 -3.75]\n",
      "50th: [-1.5  1.5 -1.5]\n",
      "75th: [-0.25  3.25  0.75]\n",
      "Percentile values of each row:\n",
      "25th: [-0.5 -5. ]\n",
      "50th: [ 1. -4.]\n",
      "75th: [2.  0.5]\n",
      "\n",
      "Mean of flattened array is: -0.5\n",
      "Median of flattened array is: -0.5\n",
      "Standard deviation of flattened array is: 3.8622100754188224\n",
      "\n",
      "Mean of array for each column is: [-1.5  1.5 -1.5]\n",
      "Median of array for each column is: [-1.5  1.5 -1.5]\n",
      "Standard deviation of array for each column is: [2.5 3.5 4.5]\n",
      "\n",
      "Mean of array for each row is: [ 0.66666667 -1.66666667]\n",
      "Median of array for each row is: [ 1. -4.]\n",
      "Standard deviation of array for each row is: [2.05480467 4.78423336]\n"
     ]
    }
   ],
   "source": [
    "array = np.array([[1, -2, 3],[-4, 5, -6]])\n",
    "print(f\"Element-wise absolute value:\\n{np.absolute(array)}\")\n",
    "\n",
    "print(\"\\nPercentile values of flattened array:\")\n",
    "print(f\"25th: {np.percentile(array,25)}\")\n",
    "print(f\"50th: {np.percentile(array,50)}\")\n",
    "print(f\"75th: {np.percentile(array,75)}\")\n",
    "print(\"Percentile values of each column:\")\n",
    "print(f\"25th: {np.percentile(array,25,axis=0)}\")\n",
    "print(f\"50th: {np.percentile(array,50,axis=0)}\")\n",
    "print(f\"75th: {np.percentile(array,75,axis=0)}\")\n",
    "print(\"Percentile values of each row:\")\n",
    "print(f\"25th: {np.percentile(array,25,axis=1)}\")\n",
    "print(f\"50th: {np.percentile(array,50,axis=1)}\")\n",
    "print(f\"75th: {np.percentile(array,75,axis=1)}\")\n",
    "\n",
    "print(f'\\nMean of flattened array is: {np.mean(array)}')\n",
    "print(f'Median of flattened array is: {np.median(array)}')\n",
    "print(f'Standard deviation of flattened array is: {np.std(array)}')\n",
    "\n",
    "print(f'\\nMean of array for each column is: {np.mean(array, axis=0)}')\n",
    "print(f'Median of array for each column is: {np.median(array, axis=0)}')\n",
    "print(f'Standard deviation of array for each column is: {np.std(array, axis=0)}')\n",
    "\n",
    "print(f'\\nMean of array for each row is: {np.mean(array, axis=1)}')\n",
    "print(f'Median of array for each row is: {np.median(array, axis=1)}')\n",
    "print(f'Standard deviation of array for each row is: {np.std(array, axis=1)}')"
   ]
  },
  {
   "cell_type": "code",
   "execution_count": 14,
   "metadata": {},
   "outputs": [
    {
     "name": "stdout",
     "output_type": "stream",
     "text": [
      "Given array: [-1.8 -1.6 -0.5  0.5  1.6  1.8  3. ]\n",
      "Floor values: [-2. -2. -1.  0.  1.  1.  3.]\n",
      "Ceiling values: [-1. -1. -0.  1.  2.  2.  3.]\n",
      "Truncated values: [-1. -1. -0.  0.  1.  1.  3.]\n",
      "Rounded values: [-2. -2. -0.  0.  2.  2.  3.]\n"
     ]
    }
   ],
   "source": [
    "a = np.array([-1.8, -1.6, -0.5, 0.5,1.6, 1.8, 3.0])\n",
    "print(f\"Given array: {a}\")\n",
    "print(f\"Floor values: {np.floor(a)}\")\n",
    "print(f\"Ceiling values: {np.ceil(a)}\")\n",
    "print(f\"Truncated values: {np.trunc(a)}\")\n",
    "print(f\"Rounded values: {np.round(a)}\")"
   ]
  },
  {
   "cell_type": "markdown",
   "metadata": {},
   "source": [
    "QUESTION 3:"
   ]
  },
  {
   "cell_type": "code",
   "execution_count": 15,
   "metadata": {},
   "outputs": [
    {
     "name": "stdout",
     "output_type": "stream",
     "text": [
      "Given array: [ 10  52  62  16  16  54 453]\n",
      "Sorted array: [ 10  16  16  52  54  62 453]\n",
      "Indices of sorted array: [0 3 4 1 5 2 6]\n",
      "4 smallest elements: [10 16 16 52]\n",
      "5 largest elements: [453  62  54  52  16]\n"
     ]
    }
   ],
   "source": [
    "array = np.array([10, 52, 62, 16, 16, 54, 453])\n",
    "print(f\"Given array: {array}\")\n",
    "a=np.sort(array)\n",
    "print(f\"Sorted array: {a}\")\n",
    "print(f\"Indices of sorted array: {np.argsort(array)}\")\n",
    "print(f\"4 smallest elements: {a[:4]}\")\n",
    "print(f\"5 largest elements: {a[:1:-1]}\")"
   ]
  },
  {
   "cell_type": "code",
   "execution_count": 16,
   "metadata": {},
   "outputs": [
    {
     "name": "stdout",
     "output_type": "stream",
     "text": [
      "Integer elements in the array are: \n",
      "1.0\n",
      "2.0\n",
      "3.0\n",
      "2.0\n",
      "Float elements in the array are: \n",
      "1.2\n",
      "2.2\n"
     ]
    }
   ],
   "source": [
    "array = np.array([1.0, 1.2, 2.2, 2.0, 3.0, 2.0])\n",
    "print(\"Integer elements in the array are: \")\n",
    "for i in array:\n",
    "    if(np.equal(np.mod(i, 1), 0)):\n",
    "        print(i)\n",
    "print(\"Float elements in the array are: \")\n",
    "for i in array:\n",
    "    if(not np.equal(np.mod(i, 1), 0)):\n",
    "        print(i)"
   ]
  },
  {
   "cell_type": "markdown",
   "metadata": {},
   "source": [
    "QUESTION 4:"
   ]
  },
  {
   "cell_type": "code",
   "execution_count": 17,
   "metadata": {},
   "outputs": [
    {
     "name": "stdout",
     "output_type": "stream",
     "text": [
      "Image shape: (799, 1200, 3)\n",
      "Reshaping to 2D array: (799, 3600)\n",
      "Image Saved as Output.txt\n"
     ]
    }
   ],
   "source": [
    "from PIL import Image  #PIL Python Imaging Library\n",
    "\n",
    "def img_to_array(path):\n",
    "    img = Image.open(path)\n",
    "    global data\n",
    "    data= np.asarray(img)\n",
    "    print(f\"Image shape: {data.shape}\")\n",
    "    # if image is colored (RGB)\n",
    "    if(data.shape[2] == 3):\n",
    "        data_reshape = data.reshape(data.shape[0], -1)\n",
    "        print(f'Reshaping to 2D array: {data_reshape.shape}')\n",
    "    # if image is greyscale\n",
    "    else:\n",
    "        data_reshape = data\n",
    "    \n",
    "    np.savetxt('output.txt', data_reshape, fmt=\"%d\")\n",
    "    print('Image Saved as Output.txt')\n",
    "\n",
    "img_to_array('lazy.jpg')\n"
   ]
  },
  {
   "cell_type": "code",
   "execution_count": 18,
   "metadata": {},
   "outputs": [
    {
     "name": "stdout",
     "output_type": "stream",
     "text": [
      "Shape of loaded image: (799, 1200, 3)\n",
      "The loaded image is same as original Image\n"
     ]
    }
   ],
   "source": [
    "loaded_2D_mat = np.loadtxt('output.txt')\n",
    "loaded_mat = loaded_2D_mat.reshape(\n",
    "    loaded_2D_mat.shape[0], loaded_2D_mat.shape[1] // data.shape[2], data.shape[2])\n",
    "print(f'Shape of loaded image: {loaded_mat.shape}')\n",
    "\n",
    "if((data == loaded_mat).all()):\n",
    "    print(\"The loaded image is same as original Image\")"
   ]
  }
 ],
 "metadata": {
  "kernelspec": {
   "display_name": "Python 3.9.12 ('base')",
   "language": "python",
   "name": "python3"
  },
  "language_info": {
   "codemirror_mode": {
    "name": "ipython",
    "version": 3
   },
   "file_extension": ".py",
   "mimetype": "text/x-python",
   "name": "python",
   "nbconvert_exporter": "python",
   "pygments_lexer": "ipython3",
   "version": "3.9.12"
  },
  "orig_nbformat": 4,
  "vscode": {
   "interpreter": {
    "hash": "90ad1cd431030001e6a51777b05b59c8a55746e63c90ccaa500dbc2f494875f8"
   }
  }
 },
 "nbformat": 4,
 "nbformat_minor": 2
}
